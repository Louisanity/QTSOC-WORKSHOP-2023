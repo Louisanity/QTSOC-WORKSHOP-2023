{
 "cells": [
  {
   "cell_type": "markdown",
   "id": "09bd38ac-089c-4d70-8051-1d580eca466d",
   "metadata": {},
   "source": [
    "# QTSoc Second Workshop (17/11/2022)\n",
    "### Presented by - Kuan-Cheng (Louis) Chen\n",
    "### Location: RSM G05"
   ]
  },
  {
   "cell_type": "code",
   "execution_count": 1,
   "id": "0a40b04d-6a4b-4093-85aa-f2f7f738841f",
   "metadata": {},
   "outputs": [
    {
     "name": "stderr",
     "output_type": "stream",
     "text": [
      "<frozen importlib._bootstrap>:219: RuntimeWarning: scipy._lib.messagestream.MessageStream size changed, may indicate binary incompatibility. Expected 56 from C header, got 64 from PyObject\n"
     ]
    }
   ],
   "source": [
    "import numpy as np\n",
    "import matplotlib.pyplot as plt\n",
    "import pandas as pd\n",
    "import seaborn as sns\n",
    "from sklearn.preprocessing import *\n",
    "from sklearn.decomposition import *\n",
    "from sklearn.model_selection import *\n",
    "\n",
    "from qiskit import *\n",
    "from qiskit.opflow import *\n",
    "from qiskit.utils import *\n",
    "from qiskit.circuit import *\n",
    "from qiskit.circuit.library import *\n",
    "from qiskit.algorithms.optimizers import *\n",
    "\n",
    "from qiskit_machine_learning.neural_networks import *\n",
    "from qiskit_machine_learning.algorithms.classifiers import *\n",
    "from qiskit_machine_learning.algorithms.regressors import *\n",
    "from qiskit_machine_learning.datasets import *\n",
    "\n",
    "from typing import Union\n",
    "\n",
    "from qiskit_machine_learning.exceptions import QiskitMachineLearningError"
   ]
  },
  {
   "cell_type": "markdown",
   "id": "8c69cb75-7bbe-4b35-b24e-925889e132e5",
   "metadata": {},
   "source": [
    "![image](https://dim.mcusercontent.com/cs/2872b6d26ba8dd002025da2ec/images/09c230c8-0a04-93ed-add0-25f0f9926c96.jpeg?w=564&dpr=2)"
   ]
  },
  {
   "cell_type": "markdown",
   "id": "2de57083-fd0b-4729-b714-a4bbbabea81f",
   "metadata": {},
   "source": [
    "A Neural Network is an ensemble of neurons that acts as a human brain. Its main goal is to detect patterns in order to classify or clusterize the data. We may distinguish between Biological or Artificial Neural Networks. Indeed, we are going to study Artificial Neural Networks (ANNs) being combined with Quantum layers.\n",
    "\n",
    "But, first of all, let's go step by step an explain a brief description of what a Neural Network is.\n",
    "\n",
    "A **Neural Network** is a type of a machine learning algorithm. As most of the machine learning algorithms, its main goal is to dettect patterns into the data to be able to classify it (speech recognition or image recognition). It is composed by node layers to perform such a task. Neural Networks are classified into three main different layers: input layer, hidden layers and output layer.\n",
    "\n",
    "![image](https://www.tibco.com/sites/tibco/files/media_entity/2021-05/neutral-network-diagram.svg)\n",
    "Each component of the layer, node or artificial neuron, is connected to other and has associated a weight and threshold in this connection. The **weight** is characterizing the importance of the variable into the model and the **threshold** is defining the limit where the neuron will be activated. Meaning that when the output of any individual node is above the specified threshold value, that node is activated, sending data to the next layer of the network. Otherwise, no data is passed along to the next layer of the network. In multi-layer neural networks, the *Sigmoid function* is used for that purpose: as an activation function.\n",
    "\n",
    "We still would require to explain two more features around Neural Networks to have a brief understanding on how a Neural Network works:\n",
    "1. We will mostly cover **feed-forward neural networks (FFNN)**; meaning that any data that has flown through a neural network, it will never return to a neuron it has already visited. \n",
    "2. **Backpropagation**: process that adjust the weights (classical layers) and parameters (quantum layers) of the neurons of the Neural Network in order to minimize a loss/cost function that fits the trainning output with the predicted one. It is usually used the gradient descent method as an optimizer and the __[mean squared error](https://en.wikipedia.org/wiki/Mean_squared_error)__ as the loss function.\n",
    "\n",
    "In case you would like to know deeply how Classical Neural Networks work, please, visit the [Reference](#reference) section."
   ]
  },
  {
   "cell_type": "markdown",
   "id": "575ae33b-5eb4-4b74-abd5-b64167246eb4",
   "metadata": {},
   "source": [
    "## Quantum Neural Networks or Variational circuits\n",
    "\n",
    "A **Quantum Neural Network** is a *parametrized quantum circuit* (or *variational quantum circuit*). It is a parametrized quantum circuit because of the parameter dependent; its optimization relys on it. Thus, a *quantum layer* has a similar behaviour as a classical hidden layer: it receives some input data, it processes that data and, finally, is sent to an output layer.\n",
    "\n",
    "But, what exactly is a *variational circuit* or *parametrized quantum circuit*? The four main components are: \n",
    "\n",
    "1. Preparation of a fixed **initial state** (it is usually used the Hadamards to initialize the ciruit)\n",
    "2. A **data encoding** quantum circuit, to convert *classical data* into *quantum data* (a feature map with fixed parameters)\n",
    "3. A **quantum circuit $U(\\theta)$** with a trainable parameter $\\theta$ (or ansatz)\n",
    "4. **Measurement of an observable A**\n",
    "\n",
    "So, a *variational circuit* performs the expectation value of the objective function $f(\\theta)=\\langle0|U^{\\dagger}(\\theta)AU^(\\theta)|0\\rangle$, and a classical optimization algorithm makes queries to the quantum device to get the better solution for $\\theta$ parameter/s. Usually, the architecture to build these circuits follows the order above, but, eseentially, it is arbitrary.\n",
    "\n",
    "To see this in more detail, *parametrized circuits* measure the expectation value of a certain obervable because they mainly follow the __[parameter shift-rule](https://arxiv.org/pdf/1905.13311.pdf)__ to compute the quantum gradient. It is mainly based in the following assumption:\n",
    "\n",
    "Certain objective function $f(\\theta) = \\langle\\varphi|U_{G}^{\\dagger}(\\theta) A U_{G}(\\theta)|\\varphi\\rangle$ can be optimized by calculating its derivative as:\n",
    "\n",
    "$$\\frac{df(\\theta)}{d\\theta} = r\\left[f(\\theta+\\frac{\\pi}{4r}) - f(\\theta-\\frac{\\pi}{4r})\\right]$$\n",
    "\n",
    "So, as mentioned above, we now have all steps of a *Quantum Neural Network*:\n",
    "\n",
    "1. Perform the quantum gradient of a certain observable\n",
    "2. Output goes to a classical optimization algorithm to train parameter $\\theta$\n",
    "3. Once optimized theta, it comes back to quantum device\n",
    "4. Quantum gradient is again computed\n",
    "5. $\\theta$ parameter is again trained\n",
    "6. And so on and so forth till convergence\n",
    "\n",
    "\n",
    "![image.png](https://www.researchgate.net/publication/337291529/figure/fig2/AS:963471374037013@1606720884248/Schematisation-of-a-variational-quantum-circuit.png)"
   ]
  },
  {
   "cell_type": "markdown",
   "id": "611cb7ca-a41b-4538-a3f0-9153f337a6d4",
   "metadata": {},
   "source": [
    "Hence, Quantum Computing is being inserted as a quantum layer into an **hybrid architecture** to form an **Hybrid Quantum Neural Network (HQNN)**. They can act individually to perform a machine learning model by itself, but hybrid arcitectures are built to improve results during the NISQ era.\n",
    "\n",
    "Thus, the following images show clearly how a *quantum layer* is integrated into the Hybrid Quantum Neural Network architecture, as well as, how it would be a possible process:\n",
    "\n",
    "![image.png](https://miro.medium.com/max/1400/1*0CQd-zmKJiWDBeDsH5PslQ.png)"
   ]
  },
  {
   "cell_type": "markdown",
   "id": "b6ecc635-7776-43f9-b779-aec975573a92",
   "metadata": {},
   "source": [
    "## 2. Quantum Neural Network Classification <a id='classification'></a>"
   ]
  },
  {
   "cell_type": "markdown",
   "id": "d8d32896-3809-41b6-be01-cbc8fe308dce",
   "metadata": {},
   "source": [
    "As we have said at the beginning of this Jupyter Notebook, Neural Networks are used to detect patterns into data. Trainning a Neural Network architecture by fitting its weights allows us to classify much quicker than humans can do thanks the current classical computational power.\n",
    "\n",
    "Because of this, we are going to porpose examples of Neural Network Classification, where the main difference from the previous lesson of *QSVM* is that the optimization is also done by a quantum layer (and not only the creation of the Kernel matrix)."
   ]
  },
  {
   "cell_type": "markdown",
   "id": "e5f272da-e03c-4b73-bdd2-e827c93f2cd1",
   "metadata": {},
   "source": [
    "### Let's Code!"
   ]
  },
  {
   "cell_type": "markdown",
   "id": "f07f9503-f9f6-4306-b873-a536ba66cc4d",
   "metadata": {},
   "source": [
    "Firstly, we are going to define an ad_hoc dataset created randomly where the classification will occurr:"
   ]
  },
  {
   "cell_type": "code",
   "execution_count": 2,
   "id": "e4926408-298e-41a9-8b01-c8d7a16b2037",
   "metadata": {},
   "outputs": [
    {
     "data": {
      "image/png": "[encoded data removed]",
      "text/plain": [
       "<Figure size 432x288 with 1 Axes>"
      ]
     },
     "metadata": {
      "needs_background": "light"
     },
     "output_type": "display_data"
    }
   ],
   "source": [
    "num_inputs = 2\n",
    "num_samples = 20\n",
    "X = 2*np.random.rand(num_samples, num_inputs) - 1 # creation of the data points to classify, it will be used the same data points for trainning and testing the data\n",
    "#print(X)\n",
    "y01 = 1*(np.sum(X, axis=1) >= 0)  # in { 0,  1}, labelling the above points into classes\n",
    "#print(y01)\n",
    "y = 2*y01-1                       # in {-1, +1}, changing labelling/space of the X data points into other\n",
    "#print(y)\n",
    "y_one_hot = np.zeros((num_samples, num_inputs)) # starting of one hot encoding\n",
    "#print(y_one_hot)\n",
    "for i in range(num_samples):\n",
    "    y_one_hot[i, y01[i]] = 1 # creation of one hot enconding; here associates a hot enconding for 1s or 0s from y01\n",
    "#print(y_one_hot)\n",
    "\n",
    "for x, y_target in zip(X, y):\n",
    "    if y_target == 1:\n",
    "        plt.plot(x[0], x[1], 'go')\n",
    "    else:\n",
    "        plt.plot(x[0], x[1], 'mo')\n",
    "plt.plot([-1, 1], [1, -1], '--', color='black')\n",
    "plt.show()"
   ]
  },
  {
   "cell_type": "markdown",
   "id": "3fe1b6fc-ef79-43a8-8705-d8481453c935",
   "metadata": {},
   "source": [
    "### Generic OpflowQNN classification"
   ]
  },
  {
   "cell_type": "markdown",
   "id": "594e34f2-91d2-4350-9127-a354a9629c35",
   "metadata": {},
   "source": [
    "<div class=\"alert alert-block alert-info\">\n",
    "<b>Tip:</b> the following models only distinguish between [-1, +1]. Thus, any other classification will not fit correctly.\n",
    "</div>"
   ]
  },
  {
   "cell_type": "markdown",
   "id": "f2e983a8-bd99-4feb-ae8f-bf42b15e0940",
   "metadata": {},
   "source": [
    "We are going to use the generic `OpflowQNN` class to classify this data points. It is always required to define an observable and a parametrized circuit. They are the key elements of the expectation value to be measured (and the way to optimize the variables)."
   ]
  },
  {
   "cell_type": "markdown",
   "id": "86aacdea-33c1-48e9-a642-9e700980a54b",
   "metadata": {},
   "source": [
    "The structure of QML:\n",
    "![image.png](https://ibm-q4ai.mybluemix.net/img/circuit_infographic_2x.e6d79302.png)"
   ]
  },
  {
   "cell_type": "markdown",
   "id": "4ff06c2a-df28-4b22-b14d-3d4fecbea5e0",
   "metadata": {},
   "source": [
    "#### Simple observable $(I)$"
   ]
  },
  {
   "cell_type": "markdown",
   "id": "42cce780-09cb-4b74-942d-7edf9bcbce3f",
   "metadata": {},
   "source": [
    "For that purpose, we construct a parametrized circuit combining a feature map (converting classical data into quantum parametrized data), an ansatz (parametrized circuit) and a simply observable (to perform the expectation value):"
   ]
  },
  {
   "cell_type": "code",
   "execution_count": 3,
   "id": "3dcd4ed3-1380-4950-93e0-05d113b027b4",
   "metadata": {},
   "outputs": [
    {
     "data": {
      "image/png": "[encoded data removed]",
      "text/plain": [
       "<Figure size 267.052x144.48 with 1 Axes>"
      ]
     },
     "execution_count": 3,
     "metadata": {},
     "output_type": "execute_result"
    }
   ],
   "source": [
    "# creating the feature map\n",
    "feature_map = ZZFeatureMap(feature_dimension=num_inputs, reps=2, entanglement='full')\n",
    "feature_map.draw('mpl')"
   ]
  },
  {
   "cell_type": "code",
   "execution_count": 4,
   "id": "689e5b17-e32a-402f-a62e-fe8d0e1046b3",
   "metadata": {},
   "outputs": [
    {
     "data": {
      "image/png": "[encoded data removed]",
      "text/plain": [
       "<Figure size 628.252x144.48 with 1 Axes>"
      ]
     },
     "execution_count": 4,
     "metadata": {},
     "output_type": "execute_result"
    }
   ],
   "source": [
    "# creating the ansatz\n",
    "ansatz = TwoLocal(num_qubits=num_inputs, rotation_blocks=['rx', 'ry'], entanglement_blocks='cz', entanglement='full', reps=4)\n",
    "ansatz.draw('mpl')"
   ]
  },
  {
   "cell_type": "code",
   "execution_count": 5,
   "id": "ad951433-7eb2-46c8-93dd-9f1672dbd95f",
   "metadata": {},
   "outputs": [],
   "source": [
    "# creating the quantum circuit\n",
    "qcirc = QuantumCircuit(num_inputs)\n",
    "qcirc.append(feature_map, range(num_inputs))\n",
    "qcirc.append(ansatz, range(num_inputs))\n",
    "#qcirc.draw('mpl')\n",
    "qcirc_op = StateFn(qcirc)\n",
    "\n",
    "H = StateFn(PauliSumOp.from_list([('I', 1.0)]))\n",
    "\n",
    "final_op = ~H @ qcirc_op\n",
    "#print(final_op)"
   ]
  },
  {
   "cell_type": "code",
   "execution_count": 6,
   "id": "d3bb3b5e-db29-42f4-8c27-223586eb54e0",
   "metadata": {},
   "outputs": [
    {
     "name": "stdout",
     "output_type": "stream",
     "text": [
      "CircuitStateFn(\n",
      "     ┌──────────────────────────┐»\n",
      "q_0: ┤0                         ├»\n",
      "     │  ZZFeatureMap(x[0],x[1]) │»\n",
      "q_1: ┤1                         ├»\n",
      "     └──────────────────────────┘»\n",
      "«     ┌──────────────────────────────────────────────────────────────────────────────────────────────────────────────────────────┐\n",
      "«q_0: ┤0                                                                                                                         ├\n",
      "«     │  TwoLocal(θ[0],θ[1],θ[2],θ[3],θ[4],θ[5],θ[6],θ[7],θ[8],θ[9],θ[10],θ[11],θ[12],θ[13],θ[14],θ[15],θ[16],θ[17],θ[18],θ[19]) │\n",
      "«q_1: ┤1                                                                                                                         ├\n",
      "«     └──────────────────────────────────────────────────────────────────────────────────────────────────────────────────────────┘\n",
      ")\n"
     ]
    }
   ],
   "source": [
    "# now, we will generate the neural network with all its components\n",
    "# translating QuantumCircuit object to Operator object\n",
    "print(qcirc_op)\n",
    "\n",
    "# selecting the method to calculate the expectation value\n",
    "exp_val = AerPauliExpectation()\n",
    "\n",
    "# selecting the gradient to use\n",
    "grad = Gradient()\n",
    "#grad = NaturalGradient()\n",
    "\n",
    "# defining the QuantumInstance\n",
    "qi = QuantumInstance(Aer.get_backend('qasm_simulator'))\n",
    "\n",
    "# defining the Quantum Neural Network\n",
    "qnn = OpflowQNN(operator=final_op, input_params=feature_map.parameters, weight_params=ansatz.parameters, exp_val=exp_val, \n",
    "                gradient=grad, quantum_instance=qi)\n",
    "\n",
    "# defining input and weights entries\n",
    "qnn_input = X[0,:]\n",
    "qnn_weights = np.random.rand(qnn.num_weights)"
   ]
  },
  {
   "cell_type": "code",
   "execution_count": 7,
   "id": "27640bbd-ab1d-4803-9071-7c02603d041c",
   "metadata": {},
   "outputs": [
    {
     "data": {
      "text/plain": [
       "array([[1.]])"
      ]
     },
     "execution_count": 7,
     "metadata": {},
     "output_type": "execute_result"
    }
   ],
   "source": [
    "# executing the neural network (this is what fit() function does step by step)\n",
    "qnn.forward(qnn_input, qnn_weights)\n",
    "\n",
    "#qnn.backward(qnn_input, qnn_weights)"
   ]
  },
  {
   "cell_type": "code",
   "execution_count": 8,
   "id": "a9278a28-05ea-431e-968b-2123406c75fd",
   "metadata": {},
   "outputs": [
    {
     "name": "stdout",
     "output_type": "stream",
     "text": [
      "Accuracy: 0.45\n"
     ]
    }
   ],
   "source": [
    "# executing the neural network classifier\n",
    "qnn_classifier = NeuralNetworkClassifier(qnn, optimizer=COBYLA())\n",
    "\n",
    "qnn_classifier.fit(X, y)\n",
    "\n",
    "print('Accuracy:',qnn_classifier.score(X, y))"
   ]
  },
  {
   "cell_type": "markdown",
   "id": "cfeff15a-5369-45e5-95c4-37de5f44defb",
   "metadata": {},
   "source": [
    "### The result is pretty bad, right?"
   ]
  },
  {
   "cell_type": "code",
   "execution_count": 9,
   "id": "eeb3a388-529c-45bb-b5de-60d2a34d8ce4",
   "metadata": {},
   "outputs": [
    {
     "name": "stdout",
     "output_type": "stream",
     "text": [
      "Predicted uncorrectly. Predicted is: 1.0 and test is: -1\n",
      "Predicted uncorrectly. Predicted is: 1.0 and test is: -1\n",
      "Predicted uncorrectly. Predicted is: 1.0 and test is: -1\n",
      "Predicted correctly. Predicted is: 1.0 and test is: 1\n",
      "Predicted correctly. Predicted is: 1.0 and test is: 1\n",
      "Predicted uncorrectly. Predicted is: 1.0 and test is: -1\n",
      "Predicted uncorrectly. Predicted is: 1.0 and test is: -1\n",
      "Predicted correctly. Predicted is: 1.0 and test is: 1\n",
      "Predicted correctly. Predicted is: 1.0 and test is: 1\n",
      "Predicted correctly. Predicted is: 1.0 and test is: 1\n",
      "Predicted uncorrectly. Predicted is: 1.0 and test is: -1\n",
      "Predicted uncorrectly. Predicted is: 1.0 and test is: -1\n",
      "Predicted correctly. Predicted is: 1.0 and test is: 1\n",
      "Predicted correctly. Predicted is: 1.0 and test is: 1\n",
      "Predicted uncorrectly. Predicted is: 1.0 and test is: -1\n",
      "Predicted correctly. Predicted is: 1.0 and test is: 1\n",
      "Predicted uncorrectly. Predicted is: 1.0 and test is: -1\n",
      "Predicted correctly. Predicted is: 1.0 and test is: 1\n",
      "Predicted uncorrectly. Predicted is: 1.0 and test is: -1\n",
      "Predicted uncorrectly. Predicted is: 1.0 and test is: -1\n"
     ]
    }
   ],
   "source": [
    "# testing the data points, the same points are being used for trainning and testing\n",
    "y_predict = qnn_classifier.predict(X)\n",
    "\n",
    "# comparing the results\n",
    "y_predict = y_predict.transpose().flatten()\n",
    "\n",
    "for i in range(len(y)):\n",
    "    if y_predict[i] == y[i]:\n",
    "        print('Predicted correctly. Predicted is:', y_predict[i],'and test is:',y[i])\n",
    "    else:\n",
    "        print('Predicted uncorrectly. Predicted is:', y_predict[i],'and test is:',y[i])"
   ]
  },
  {
   "cell_type": "code",
   "execution_count": 10,
   "id": "98fd7550-4867-4718-a07d-1821c6ada8b4",
   "metadata": {},
   "outputs": [
    {
     "data": {
      "image/png": "[encoded data removed]",
      "text/plain": [
       "<Figure size 432x288 with 1 Axes>"
      ]
     },
     "metadata": {
      "needs_background": "light"
     },
     "output_type": "display_data"
    }
   ],
   "source": [
    "# plot results\n",
    "# red == wrongly classified\n",
    "for x, y_target, y_p in zip(X, y, y_predict):\n",
    "    if y_target == 1:\n",
    "        plt.plot(x[0], x[1], 'go')\n",
    "    else:\n",
    "        plt.plot(x[0], x[1], 'mo')\n",
    "    if y_target != y_p:\n",
    "        plt.scatter(x[0], x[1], s=200, facecolors='none', edgecolors='r', linewidths=2)\n",
    "plt.plot([-1, 1], [1, -1], '--', color='black')\n",
    "plt.show()"
   ]
  },
  {
   "cell_type": "markdown",
   "id": "98ac93f7-ead6-4727-95fa-2406cdeddef6",
   "metadata": {},
   "source": [
    "#### Good observable $(X, Z)$"
   ]
  },
  {
   "cell_type": "markdown",
   "id": "8491599a-f07f-4b16-bd17-725154806479",
   "metadata": {},
   "source": [
    "Now, we have tested some observables to see how to improve the obtained score. For our example, we have achieved that the best observable is build by the Pauli matrix $X$ and $Z$:"
   ]
  },
  {
   "cell_type": "code",
   "execution_count": 11,
   "id": "0e20cf58-fa98-4c97-b5f3-d3e13ab47d8c",
   "metadata": {},
   "outputs": [],
   "source": [
    "# creating the quantum circuit\n",
    "qcirc = QuantumCircuit(num_inputs)\n",
    "qcirc.append(feature_map, range(num_inputs))\n",
    "qcirc.append(ansatz, range(num_inputs))\n",
    "#qcirc.draw('mpl')\n",
    "qcirc_op = StateFn(qcirc)\n",
    "\n",
    "H = StateFn(PauliSumOp.from_list([('X', 1.0), ('Z', 1.0)]))\n",
    "\n",
    "final_op = ~H @ qcirc_op\n",
    "#print(final_op)"
   ]
  },
  {
   "cell_type": "code",
   "execution_count": 12,
   "id": "397b681f-3a3a-4c71-a5f9-a7d0d68257b6",
   "metadata": {},
   "outputs": [
    {
     "name": "stdout",
     "output_type": "stream",
     "text": [
      "CircuitStateFn(\n",
      "     ┌──────────────────────────┐»\n",
      "q_0: ┤0                         ├»\n",
      "     │  ZZFeatureMap(x[0],x[1]) │»\n",
      "q_1: ┤1                         ├»\n",
      "     └──────────────────────────┘»\n",
      "«     ┌──────────────────────────────────────────────────────────────────────────────────────────────────────────────────────────┐\n",
      "«q_0: ┤0                                                                                                                         ├\n",
      "«     │  TwoLocal(θ[0],θ[1],θ[2],θ[3],θ[4],θ[5],θ[6],θ[7],θ[8],θ[9],θ[10],θ[11],θ[12],θ[13],θ[14],θ[15],θ[16],θ[17],θ[18],θ[19]) │\n",
      "«q_1: ┤1                                                                                                                         ├\n",
      "«     └──────────────────────────────────────────────────────────────────────────────────────────────────────────────────────────┘\n",
      ")\n"
     ]
    }
   ],
   "source": [
    "# now, we will generate the neural network with all its components\n",
    "# translating QuantumCircuit object to Operator object\n",
    "print(qcirc_op)\n",
    "\n",
    "# selecting the method to calculate the expectation value\n",
    "exp_val = AerPauliExpectation()\n",
    "\n",
    "# selecting the gradient to use\n",
    "grad = Gradient()\n",
    "#grad = NaturalGradient()\n",
    "\n",
    "# defining the QuantumInstance\n",
    "qi = QuantumInstance(Aer.get_backend('qasm_simulator'))\n",
    "\n",
    "# defining the Quantum Neural Network\n",
    "qnn = OpflowQNN(operator=final_op, input_params=feature_map.parameters, weight_params=ansatz.parameters, exp_val=exp_val, \n",
    "                gradient=grad, quantum_instance=qi)\n",
    "\n",
    "# defining input and weights entries\n",
    "qnn_input = X[0,:]\n",
    "qnn_weights = np.random.rand(qnn.num_weights)"
   ]
  },
  {
   "cell_type": "code",
   "execution_count": 13,
   "id": "756d79ea-a1bc-4cea-9828-fb112f882817",
   "metadata": {},
   "outputs": [
    {
     "data": {
      "text/plain": [
       "array([[0.8620028]])"
      ]
     },
     "execution_count": 13,
     "metadata": {},
     "output_type": "execute_result"
    }
   ],
   "source": [
    "# executing the neural network\n",
    "qnn.forward(qnn_input, qnn_weights)\n",
    "\n",
    "#qnn.backward(qnn_input, qnn_weights)"
   ]
  },
  {
   "cell_type": "code",
   "execution_count": 14,
   "id": "1f385e04-40f3-4acd-86a4-ee62bc4739bf",
   "metadata": {},
   "outputs": [
    {
     "data": {
      "text/plain": [
       "0.9"
      ]
     },
     "execution_count": 14,
     "metadata": {},
     "output_type": "execute_result"
    }
   ],
   "source": [
    "# executing the neural network classifier\n",
    "qnn_classifier = NeuralNetworkClassifier(qnn, one_hot=False, optimizer=COBYLA())\n",
    "\n",
    "qnn_classifier.fit(X, y)\n",
    "\n",
    "qnn_classifier.score(X, y)"
   ]
  },
  {
   "cell_type": "code",
   "execution_count": 15,
   "id": "351873ad-3ad0-4321-bf0f-2ece24060546",
   "metadata": {},
   "outputs": [
    {
     "name": "stdout",
     "output_type": "stream",
     "text": [
      "Predicted uncorrectly. Predicted is: 1.0 and test is: -1\n",
      "Predicted correctly. Predicted is: -1.0 and test is: -1\n",
      "Predicted correctly. Predicted is: -1.0 and test is: -1\n",
      "Predicted correctly. Predicted is: 1.0 and test is: 1\n",
      "Predicted correctly. Predicted is: 1.0 and test is: 1\n",
      "Predicted correctly. Predicted is: -1.0 and test is: -1\n",
      "Predicted correctly. Predicted is: -1.0 and test is: -1\n",
      "Predicted correctly. Predicted is: 1.0 and test is: 1\n",
      "Predicted correctly. Predicted is: 1.0 and test is: 1\n",
      "Predicted correctly. Predicted is: 1.0 and test is: 1\n",
      "Predicted uncorrectly. Predicted is: 1.0 and test is: -1\n",
      "Predicted correctly. Predicted is: -1.0 and test is: -1\n",
      "Predicted correctly. Predicted is: 1.0 and test is: 1\n",
      "Predicted correctly. Predicted is: 1.0 and test is: 1\n",
      "Predicted correctly. Predicted is: -1.0 and test is: -1\n",
      "Predicted correctly. Predicted is: 1.0 and test is: 1\n",
      "Predicted correctly. Predicted is: -1.0 and test is: -1\n",
      "Predicted correctly. Predicted is: 1.0 and test is: 1\n",
      "Predicted correctly. Predicted is: -1.0 and test is: -1\n",
      "Predicted correctly. Predicted is: -1.0 and test is: -1\n"
     ]
    }
   ],
   "source": [
    "# testing the data points, the same points are being used for trainning and testing\n",
    "y_predict = qnn_classifier.predict(X)\n",
    "\n",
    "# comparing the results\n",
    "y_predict = y_predict.transpose().flatten()\n",
    "\n",
    "for i in range(len(y)):\n",
    "    if y_predict[i] == y[i]:\n",
    "        print('Predicted correctly. Predicted is:', y_predict[i],'and test is:',y[i])\n",
    "    else:\n",
    "        print('Predicted uncorrectly. Predicted is:', y_predict[i],'and test is:',y[i])"
   ]
  },
  {
   "cell_type": "code",
   "execution_count": 16,
   "id": "e288c40e-0888-4562-83f5-687f66823b29",
   "metadata": {},
   "outputs": [
    {
     "data": {
      "image/png": "[encoded data removed]",
      "text/plain": [
       "<Figure size 432x288 with 1 Axes>"
      ]
     },
     "metadata": {
      "needs_background": "light"
     },
     "output_type": "display_data"
    }
   ],
   "source": [
    "# plot results\n",
    "# red == wrongly classified\n",
    "for x, y_target, y_p in zip(X, y, y_predict):\n",
    "    if y_target == 1:\n",
    "        plt.plot(x[0], x[1], 'go')\n",
    "    else:\n",
    "        plt.plot(x[0], x[1], 'mo')\n",
    "    if y_target != y_p:\n",
    "        plt.scatter(x[0], x[1], s=200, facecolors='none', edgecolors='r', linewidths=2)\n",
    "plt.plot([-1, 1], [1, -1], '--', color='black')\n",
    "plt.show()"
   ]
  },
  {
   "cell_type": "markdown",
   "id": "346c843c-e4f9-4cc8-a91a-6b6d1407212c",
   "metadata": {},
   "source": [
    "Here, to improve our results, we would choose an adequate feature map, ansatz and observable for our specific problem. This is a very hard task that requires to be studied in detail."
   ]
  },
  {
   "cell_type": "markdown",
   "id": "6308f9dc-4e98-4dcf-bc4e-f75286f1c3fe",
   "metadata": {},
   "source": [
    "<div class=\"alert alert-block alert-success\">\n",
    "    <b>Conclusion:</b> Quantum Neural Networks are good models because they use hybrid approaches that will be executable in NISQ devices (<i>variational circuits</i>). The most important thing to obtain good results is the choice of the observable and parametrized ansatz, depending on the feature map. This will totally yield into a good or bad inference response of the model.\n",
    "</div>"
   ]
  },
  {
   "cell_type": "markdown",
   "id": "9329b35c-fbc6-42ae-ab08-9327216351cf",
   "metadata": {},
   "source": [
    "## 3. Quantum Neural Network Regression <a id='regression'></a> (It's your turn!)"
   ]
  },
  {
   "cell_type": "markdown",
   "id": "c8bfa4b0-4289-47c6-8a22-012e85b05f47",
   "metadata": {},
   "source": [
    "The main goal of a Neural Network is to detect patterns into certain type of data describing an specific event, as said too many times previously.\n",
    "\n",
    "Because of this, Quantum Neural Networks classify data, but they also make regression into the data."
   ]
  },
  {
   "cell_type": "markdown",
   "id": "0f5153cc-7d91-4dd4-b024-fcbaddd2c9ee",
   "metadata": {},
   "source": [
    "Into this section, we are going to see an example of regression with a Quantum Neural Network. We are going to follow the same approach as in previously examples: feature map, ansatz and observable/operator.\n",
    "\n",
    "The only thing it will change here is the use of `NeuralNetworkRegressor` from Qiskit instead of the class `NeuralNetworkClassifier`. The rest remains almost exactly the same.\n",
    "\n",
    "One very important fact to keep in mind into the regression fact is **the correct selection of the parameter to be optmized**. For each type of function, a different parameter is being used and, therefore, will give optimal solutions or it could get into a barrens plateau."
   ]
  },
  {
   "cell_type": "markdown",
   "id": "12059e68-1428-45b5-97d1-f802dfb7490e",
   "metadata": {},
   "source": [
    "Let's do an example of cosinus regression:"
   ]
  },
  {
   "cell_type": "code",
   "execution_count": 17,
   "id": "a1d0ed5d-2b30-4583-9932-6e21c2a7b031",
   "metadata": {},
   "outputs": [
    {
     "data": {
      "image/png": "[encoded data removed]",
      "text/plain": [
       "<Figure size 432x288 with 1 Axes>"
      ]
     },
     "metadata": {
      "needs_background": "light"
     },
     "output_type": "display_data"
    }
   ],
   "source": [
    "# Setup & your training samples\n",
    "\n",
    "num_qubits = 1\n",
    "num_samples = 50\n",
    "eps = 0.25\n",
    "low_bound, upper_bound = -np.pi, np.pi\n",
    "X_ = np.linspace(low_bound, upper_bound, num=100).reshape(100, 1)\n",
    "f = lambda x: np.cos(x)\n",
    "\n",
    "X = (upper_bound - low_bound)*np.random.rand(num_samples, 1) + low_bound\n",
    "y = f(X[:,0]) + eps*(2*np.random.rand(num_samples)-1)\n",
    "\n",
    "plt.plot(X_, f(X_), 'r--')\n",
    "plt.plot(X, y, 'bo')\n",
    "plt.show()"
   ]
  },
  {
   "cell_type": "markdown",
   "id": "d854d65a-1b96-4365-a11c-800b0244dc33",
   "metadata": {},
   "source": [
    "### Generic OpflowQNN regression"
   ]
  },
  {
   "cell_type": "code",
   "execution_count": 18,
   "id": "1dd0f037-43ee-4c49-b57b-0bf18d8f2f07",
   "metadata": {},
   "outputs": [],
   "source": [
    "# defining feature_map\n",
    "param_x = Parameter('x')\n",
    "feature_map = QuantumCircuit(1, name='fm')\n",
    "feature_map.ry(param_x, 0)\n",
    "\n",
    "# defining parametrized ansatz\n",
    "ansatz = RealAmplitudes(num_qubits=num_qubits, entanglement='linear', reps=1) #parameter_prefix='a')"
   ]
  },
  {
   "cell_type": "code",
   "execution_count": 20,
   "id": "cdd32bcf-ffcb-417a-bf80-6fa302f7561a",
   "metadata": {},
   "outputs": [],
   "source": [
    "# defining the operator to use in the QNN\n",
    "\n",
    "# first we create, as usual, the parametrized eigenstate of our solution (composed by feature_map and ansatz)\n",
    "qcirc = QuantumCircuit(num_qubits)\n",
    "qcirc.append(feature_map, range(num_qubits)) # classical data to quantum date\n",
    "qcirc.append(ansatz, range(num_qubits)) # parametrized quantum circuit\n",
    "#qcirc.draw('mpl')\n",
    "qcirc_op = StateFn(qcirc)\n",
    "\n",
    "# thus, we create the observable where we will \n",
    "H = StateFn(PauliSumOp.from_list([('Z', 1.0)]))\n",
    "\n",
    "final_op = ~H @ qcirc_op\n",
    "#print(final_op)"
   ]
  },
  {
   "cell_type": "code",
   "execution_count": 21,
   "id": "e40e1820-a3cc-482d-9584-ab03a1bde626",
   "metadata": {},
   "outputs": [],
   "source": [
    "# defining QuantumInstance\n",
    "quantum_instance = QuantumInstance(Aer.get_backend('qasm_simulator'))\n",
    "\n",
    "# selecting the method to calculate the expectation value\n",
    "exp_val = AerPauliExpectation()\n",
    "\n",
    "# selecting the gradient to use\n",
    "grad = Gradient()\n",
    "\n",
    "# defining the QNN\n",
    "qnn = OpflowQNN(operator=final_op, input_params=feature_map.parameters, weight_params=ansatz.parameters, exp_val=exp_val, \n",
    "                gradient=grad, quantum_instance=quantum_instance)"
   ]
  },
  {
   "cell_type": "code",
   "execution_count": 22,
   "id": "c7328870-051d-4827-aea0-a4be277c227e",
   "metadata": {},
   "outputs": [],
   "source": [
    "qnn_regressor = NeuralNetworkRegressor(neural_network=qnn, optimizer=L_BFGS_B())\n",
    "# loss= 'l2'"
   ]
  },
  {
   "cell_type": "code",
   "execution_count": 23,
   "id": "f7840f8a-e825-466a-8af9-983dee67c394",
   "metadata": {},
   "outputs": [
    {
     "data": {
      "text/plain": [
       "0.962560255688994"
      ]
     },
     "execution_count": 23,
     "metadata": {},
     "output_type": "execute_result"
    }
   ],
   "source": [
    "qnn_regressor.fit(X, y)\n",
    "\n",
    "qnn_regressor.score(X, y)"
   ]
  },
  {
   "cell_type": "code",
   "execution_count": 24,
   "id": "07e9622c-4fb5-4960-8da0-69de8cbb51a1",
   "metadata": {},
   "outputs": [
    {
     "data": {
      "image/png": "[encoded data removed]",
      "text/plain": [
       "<Figure size 432x288 with 1 Axes>"
      ]
     },
     "metadata": {
      "needs_background": "light"
     },
     "output_type": "display_data"
    }
   ],
   "source": [
    "# evaluating the data points from all the spectra\n",
    "y_ = qnn_regressor.predict(X_)\n",
    "\n",
    "# plot of the target function\n",
    "plt.plot(X_, f(X_), 'r--')\n",
    "\n",
    "# plot of the data\n",
    "plt.plot(X, y, 'bo')\n",
    "\n",
    "# plotting the regresion line\n",
    "plt.plot(X_, y_, 'g-')\n",
    "plt.show()"
   ]
  },
  {
   "cell_type": "markdown",
   "id": "dfd38c22-813f-4aef-98b7-df18d949328a",
   "metadata": {},
   "source": [
    "### Specific *Variational Quantum Regressor* Qiskit function"
   ]
  },
  {
   "cell_type": "markdown",
   "id": "c9bea7e9-0b4b-467c-b846-22873686d75d",
   "metadata": {},
   "source": [
    "The same as in the classification section, Qiskit allows us with a `VQR` encapsulated formula to develop the regression task of a Quantum Neural Network."
   ]
  },
  {
   "cell_type": "code",
   "execution_count": 25,
   "id": "7c563588-65db-48fc-862c-0ec247dde148",
   "metadata": {},
   "outputs": [],
   "source": [
    "# defining feature_map\n",
    "param_x = Parameter('x')\n",
    "feature_map = QuantumCircuit(1, name='fm')\n",
    "feature_map.rx(param_x, 0)\n",
    "\n",
    "# defining parametrized ansatz\n",
    "ansatz = RealAmplitudes(num_qubits=num_qubits, entanglement='linear', reps=1) #parameter_prefix='a')\n",
    "\n",
    "# defining the QuantumInstance\n",
    "quantum_instance = QuantumInstance(Aer.get_backend('qasm_simulator'))"
   ]
  },
  {
   "cell_type": "code",
   "execution_count": 26,
   "id": "9747dc0d-ce2b-4308-a5a3-cba62192680e",
   "metadata": {},
   "outputs": [
    {
     "name": "stderr",
     "output_type": "stream",
     "text": [
      "/tmp/ipykernel_77/2217241618.py:1: DeprecationWarning: The quantum_instance argument is deprecated as of version 0.5.0 and will be removed no sooner than 3 months after the release. Instead use the estimator argument.\n",
      "  vqr = VQR(feature_map=feature_map, ansatz=ansatz, optimizer=L_BFGS_B(), quantum_instance=quantum_instance)\n"
     ]
    }
   ],
   "source": [
    "vqr = VQR(feature_map=feature_map, ansatz=ansatz, optimizer=L_BFGS_B(), quantum_instance=quantum_instance)"
   ]
  },
  {
   "cell_type": "code",
   "execution_count": 27,
   "id": "ead2043a-dc8c-4fb5-872e-c6b221d16f97",
   "metadata": {},
   "outputs": [
    {
     "data": {
      "text/plain": [
       "0.9620880984793156"
      ]
     },
     "execution_count": 27,
     "metadata": {},
     "output_type": "execute_result"
    }
   ],
   "source": [
    "# fitting the regressor\n",
    "vqr.fit(X, y)\n",
    "\n",
    "# looking at the score fitting\n",
    "vqr.score(X, y)"
   ]
  },
  {
   "cell_type": "code",
   "execution_count": 28,
   "id": "8df49802-d79f-46a4-acdf-6d4a7d6cf9e4",
   "metadata": {},
   "outputs": [
    {
     "data": {
      "image/png": "[encoded data removed]",
      "text/plain": [
       "<Figure size 432x288 with 1 Axes>"
      ]
     },
     "metadata": {
      "needs_background": "light"
     },
     "output_type": "display_data"
    }
   ],
   "source": [
    "# evaluating the data from all the spectra\n",
    "y_ = vqr.predict(X_)\n",
    "\n",
    "# plot of the cosinus function\n",
    "plt.plot(X_, f(X_), 'r--')\n",
    "\n",
    "# plotting the data\n",
    "plt.plot(X, y, 'bo')\n",
    "\n",
    "# plot regression line\n",
    "plt.plot(X_, y_, 'g-')\n",
    "plt.show()"
   ]
  },
  {
   "cell_type": "markdown",
   "id": "90f0d16d-21b7-4469-9328-6f3dcd2c15dc",
   "metadata": {},
   "source": [
    "## Reference <a id='reference'></a>"
   ]
  },
  {
   "cell_type": "markdown",
   "id": "fbf7eac2-4e16-47a9-b30b-846e7aa74214",
   "metadata": {},
   "source": [
    "https://qiskit.org/textbook/ch-machine-learning/machine-learning-qiskit-pytorch.html\n",
    "\n",
    "https://www.ibm.com/cloud/learn/neural-networks\n",
    "\n",
    "https://en.wikipedia.org/wiki/Neural_network\n",
    "\n",
    "https://www.sas.com/en_us/insights/analytics/neural-networks.html\n",
    "\n",
    "https://arxiv.org/pdf/1905.13311.pdf\n",
    "\n",
    "https://qiskit.org/documentation/machine-learning/tutorials/01_neural_networks.html\n",
    "\n",
    "https://qiskit.org/documentation/machine-learning/tutorials/02_neural_network_classifier_and_regressor.html\n",
    "\n",
    "https://pennylane.ai/qml/glossary/quantum_gradient.html\n",
    "\n",
    "https://pennylane.ai/qml/glossary/variational_circuit.html"
   ]
  },
  {
   "cell_type": "markdown",
   "id": "54a0eab5-3d45-494b-abb1-6d985c97f404",
   "metadata": {},
   "source": [
    "# Additional information\n",
    "\n",
    "<b>Created by:</b> Kuan-Cheng (Louis) Chen\n",
    "\n",
    "<b>Co-work by:</b> Kian Jansepar, Michael Ho, Harsh Rathee\n",
    "\n",
    "<b>Organised by:</b> Imperial College London Quantum Society (QTSoc)\n",
    "\n",
    "(Official Website: https://imperialqtsoc.com/)\n",
    "\n",
    "Version: 1.0"
   ]
  },
  {
   "cell_type": "code",
   "execution_count": 29,
   "id": "4c69388f-fa53-46c5-96a4-0db62ffb9b45",
   "metadata": {},
   "outputs": [
    {
     "data": {
      "text/html": [
       "<h3>Version Information</h3><table><tr><th>Qiskit Software</th><th>Version</th></tr><tr><td><code>qiskit-terra</code></td><td>0.22.2</td></tr><tr><td><code>qiskit-aer</code></td><td>0.11.1</td></tr><tr><td><code>qiskit-ibmq-provider</code></td><td>0.19.2</td></tr><tr><td><code>qiskit</code></td><td>0.39.2</td></tr><tr><td><code>qiskit-nature</code></td><td>0.5.0</td></tr><tr><td><code>qiskit-finance</code></td><td>0.3.4</td></tr><tr><td><code>qiskit-optimization</code></td><td>0.4.0</td></tr><tr><td><code>qiskit-machine-learning</code></td><td>0.5.0</td></tr><tr><th>System information</th></tr><tr><td>Python version</td><td>3.8.13</td></tr><tr><td>Python compiler</td><td>GCC 10.3.0</td></tr><tr><td>Python build</td><td>default, Mar 25 2022 06:04:10</td></tr><tr><td>OS</td><td>Linux</td></tr><tr><td>CPUs</td><td>8</td></tr><tr><td>Memory (Gb)</td><td>31.211326599121094</td></tr><tr><td colspan='2'>Tue Nov 15 21:46:00 2022 UTC</td></tr></table>"
      ],
      "text/plain": [
       "<IPython.core.display.HTML object>"
      ]
     },
     "metadata": {},
     "output_type": "display_data"
    }
   ],
   "source": [
    "from qiskit.tools.jupyter import *\n",
    "%qiskit_version_table"
   ]
  }
 ],
 "metadata": {
  "kernelspec": {
   "display_name": "Python 3 (ipykernel)",
   "language": "python",
   "name": "python3"
  },
  "language_info": {
   "codemirror_mode": {
    "name": "ipython",
    "version": 3
   },
   "file_extension": ".py",
   "mimetype": "text/x-python",
   "name": "python",
   "nbconvert_exporter": "python",
   "pygments_lexer": "ipython3",
   "version": "3.8.13"
  },
  "widgets": {
   "application/vnd.jupyter.widget-state+json": {
    "state": {},
    "version_major": 2,
    "version_minor": 0
   }
  }
 },
 "nbformat": 4,
 "nbformat_minor": 5
}
